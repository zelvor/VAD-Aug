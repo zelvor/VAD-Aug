{
 "cells": [
  {
   "cell_type": "code",
   "execution_count": 1,
   "metadata": {},
   "outputs": [],
   "source": [
    "import pandas as pd\n",
    "import librosa\n",
    "import os\n",
    "import validators"
   ]
  },
  {
   "cell_type": "code",
   "execution_count": 2,
   "metadata": {},
   "outputs": [],
   "source": [
    "metadata = pd.read_csv('OADTM2205-raw.csv')\n",
    "#remove skill_name is NaN and skill_name is olli.others\n",
    "metadata = metadata[~metadata['skill_name'].isna()]\n",
    "metadata = metadata[metadata['skill_name'] != 'olli.others']\n",
    "metadata.to_csv('metadata/raw_multiskill.csv', index=False)"
   ]
  },
  {
   "cell_type": "code",
   "execution_count": 15,
   "metadata": {},
   "outputs": [
    {
     "name": "stderr",
     "output_type": "stream",
     "text": [
      "C:\\Users\\admin\\AppData\\Local\\Temp\\ipykernel_10768\\2751833123.py:3: FutureWarning: The frame.append method is deprecated and will be removed from pandas in a future version. Use pandas.concat instead.\n",
      "  metadata3 = metadata2[metadata2['skill_name'].isna()].append(metadata2[metadata2['skill_name'] == 'olli.others'])\n"
     ]
    }
   ],
   "source": [
    "# metadata2 = pd.read_csv('OADTM2205-raw.csv')\n",
    "# #remove all skill_name, just keep both NaN and olli.others\n",
    "# metadata3 = metadata2[metadata2['skill_name'].isna()].append(metadata2[metadata2['skill_name'] == 'olli.others'])\n",
    "# metadata3.to_csv('metadata/raw_others.csv', index=False)\n"
   ]
  },
  {
   "cell_type": "code",
   "execution_count": 82,
   "metadata": {},
   "outputs": [],
   "source": [
    "csv2 = pd.read_csv('metadata/raw_multiskill.csv')"
   ]
  },
  {
   "cell_type": "code",
   "execution_count": 86,
   "metadata": {},
   "outputs": [
    {
     "data": {
      "text/html": [
       "<div>\n",
       "<style scoped>\n",
       "    .dataframe tbody tr th:only-of-type {\n",
       "        vertical-align: middle;\n",
       "    }\n",
       "\n",
       "    .dataframe tbody tr th {\n",
       "        vertical-align: top;\n",
       "    }\n",
       "\n",
       "    .dataframe thead th {\n",
       "        text-align: right;\n",
       "    }\n",
       "</style>\n",
       "<table border=\"1\" class=\"dataframe\">\n",
       "  <thead>\n",
       "    <tr style=\"text-align: right;\">\n",
       "      <th></th>\n",
       "      <th>skill_name</th>\n",
       "      <th>count</th>\n",
       "      <th>percent</th>\n",
       "    </tr>\n",
       "  </thead>\n",
       "  <tbody>\n",
       "    <tr>\n",
       "      <th>0</th>\n",
       "      <td>Horoscope</td>\n",
       "      <td>271</td>\n",
       "      <td>0.051724</td>\n",
       "    </tr>\n",
       "    <tr>\n",
       "      <th>1</th>\n",
       "      <td>Riddles</td>\n",
       "      <td>852</td>\n",
       "      <td>0.162616</td>\n",
       "    </tr>\n",
       "    <tr>\n",
       "      <th>2</th>\n",
       "      <td>Translator</td>\n",
       "      <td>1166</td>\n",
       "      <td>0.222548</td>\n",
       "    </tr>\n",
       "    <tr>\n",
       "      <th>3</th>\n",
       "      <td>iot</td>\n",
       "      <td>24936</td>\n",
       "      <td>4.759387</td>\n",
       "    </tr>\n",
       "    <tr>\n",
       "      <th>4</th>\n",
       "      <td>olli.calculator</td>\n",
       "      <td>1045</td>\n",
       "      <td>0.199453</td>\n",
       "    </tr>\n",
       "    <tr>\n",
       "      <th>5</th>\n",
       "      <td>olli.playmusic</td>\n",
       "      <td>118709</td>\n",
       "      <td>22.657286</td>\n",
       "    </tr>\n",
       "    <tr>\n",
       "      <th>6</th>\n",
       "      <td>olli.reminder</td>\n",
       "      <td>4358</td>\n",
       "      <td>0.831786</td>\n",
       "    </tr>\n",
       "    <tr>\n",
       "      <th>7</th>\n",
       "      <td>olli.weather</td>\n",
       "      <td>9992</td>\n",
       "      <td>1.907114</td>\n",
       "    </tr>\n",
       "    <tr>\n",
       "      <th>8</th>\n",
       "      <td>public</td>\n",
       "      <td>362599</td>\n",
       "      <td>69.207131</td>\n",
       "    </tr>\n",
       "    <tr>\n",
       "      <th>9</th>\n",
       "      <td>Đặt vé máy bay</td>\n",
       "      <td>5</td>\n",
       "      <td>0.000954</td>\n",
       "    </tr>\n",
       "  </tbody>\n",
       "</table>\n",
       "</div>"
      ],
      "text/plain": [
       "        skill_name   count    percent\n",
       "0        Horoscope     271   0.051724\n",
       "1          Riddles     852   0.162616\n",
       "2       Translator    1166   0.222548\n",
       "3              iot   24936   4.759387\n",
       "4  olli.calculator    1045   0.199453\n",
       "5   olli.playmusic  118709  22.657286\n",
       "6    olli.reminder    4358   0.831786\n",
       "7     olli.weather    9992   1.907114\n",
       "8           public  362599  69.207131\n",
       "9   Đặt vé máy bay       5   0.000954"
      ]
     },
     "execution_count": 86,
     "metadata": {},
     "output_type": "execute_result"
    }
   ],
   "source": [
    "#export skill_name, percent of skill_name\n",
    "csv2_x = csv2.groupby('skill_name').size().reset_index(name='count')\n",
    "csv2_x['percent'] = csv2_x['count']/csv2_x['count'].sum()*100\n",
    "csv2_x"
   ]
  },
  {
   "cell_type": "code",
   "execution_count": 94,
   "metadata": {},
   "outputs": [
    {
     "name": "stdout",
     "output_type": "stream",
     "text": [
      "           skill_name   count  user_id  number_of_utterances  \\\n",
      "0           Horoscope     271      108                     6   \n",
      "1           Horoscope     271      253                    10   \n",
      "2           Horoscope     271      385                     4   \n",
      "3           Horoscope     271     6351                    14   \n",
      "4           Horoscope     271     7141                    31   \n",
      "...               ...     ...      ...                   ...   \n",
      "14105          public  362599    23031                    70   \n",
      "14106          public  362599    23032                     4   \n",
      "14107          public  362599    23036                     2   \n",
      "14108          public  362599    23106                     5   \n",
      "14109  Đặt vé máy bay       5    21792                     5   \n",
      "\n",
      "       percent(user | skill)  \n",
      "0                   2.214022  \n",
      "1                   3.690037  \n",
      "2                   1.476015  \n",
      "3                   5.166052  \n",
      "4                  11.439114  \n",
      "...                      ...  \n",
      "14105               0.019305  \n",
      "14106               0.001103  \n",
      "14107               0.000552  \n",
      "14108               0.001379  \n",
      "14109             100.000000  \n",
      "\n",
      "[14110 rows x 5 columns]\n"
     ]
    }
   ],
   "source": [
    "#statistics of skill_name, user_id, percent of skill_name with user_id\n",
    "csv2_y = csv2.groupby(['skill_name', 'user_id']).size().reset_index(name='number_of_utterances')\n",
    "#csv2_y = csv2.groupby('skill_name').user_id.nunique().reset_index(name='number_of_user')\n",
    "#merge csv2_x and csv2_y by skill_name\n",
    "csv2_z = csv2_x.merge(csv2_y, on='skill_name')\n",
    "csv2_z['percent(user | skill)'] = csv2_z['number_of_utterances']/csv2_z['count']*100\n",
    "#delete percen\n",
    "csv2_z.drop(['percent'], axis=1, inplace=True)\n",
    "print(csv2_z)\n",
    "csv2_z.to_csv('metadata/user_by_skill_stat.csv', index=False)\n",
    "\n",
    "\n",
    "#number of user_id with skill_name\n",
    "# csv2_y_x = csv2_y.groupby('skill_name').user_id.nunique().reset_index(name='count')\n",
    "#percent = sum of count of each skill_name/sum of count of all skill_name\n",
    "# csv2_y['percent'] = csv2_y['count']/csv2_y['count'].sum()*100\n",
    "# csv2_y.to_csv('metadata/user_by_skill_stat.csv', index=False)"
   ]
  },
  {
   "cell_type": "code",
   "execution_count": 96,
   "metadata": {},
   "outputs": [],
   "source": [
    "# csv2_10per = csv2.groupby(['skill_name', 'user_id']).apply(lambda x: x.sample(frac=0.1))\n",
    "\n",
    "\n",
    "csv2_10per = csv2.groupby(['skill_name', 'user_id']).apply(lambda x: x.sample(max(1, len(x)//10)))\n",
    "csv2_10per.to_csv('metadata/raw_multiskill_10per.csv', index=False)\n",
    "\n",
    "#export skill_name, percent of skill_name\n"
   ]
  },
  {
   "cell_type": "code",
   "execution_count": 97,
   "metadata": {},
   "outputs": [],
   "source": [
    "csv2_10per = pd.read_csv('metadata/raw_multiskill_10per.csv')\n",
    "csv2_10per_x = csv2_10per.groupby('skill_name').size().reset_index(name='count')\n",
    "csv2_10per_x['percent'] = csv2_10per_x['count']/csv2_10per_x['count'].sum()*100\n",
    "csv2_10per_x.to_csv('metadata/skill_stat_10per.csv', index=False)"
   ]
  },
  {
   "cell_type": "code",
   "execution_count": 99,
   "metadata": {},
   "outputs": [
    {
     "name": "stdout",
     "output_type": "stream",
     "text": [
      "           skill_name  count  user_id  number_of_utterances  \\\n",
      "0           Horoscope     29      108                     1   \n",
      "1           Horoscope     29      253                     1   \n",
      "2           Horoscope     29      385                     1   \n",
      "3           Horoscope     29     6351                     1   \n",
      "4           Horoscope     29     7141                     3   \n",
      "...               ...    ...      ...                   ...   \n",
      "14105          public  35664    23031                     7   \n",
      "14106          public  35664    23032                     1   \n",
      "14107          public  35664    23036                     1   \n",
      "14108          public  35664    23106                     1   \n",
      "14109  Đặt vé máy bay      1    21792                     1   \n",
      "\n",
      "       percent(user | skill)  \n",
      "0                   3.448276  \n",
      "1                   3.448276  \n",
      "2                   3.448276  \n",
      "3                   3.448276  \n",
      "4                  10.344828  \n",
      "...                      ...  \n",
      "14105               0.019628  \n",
      "14106               0.002804  \n",
      "14107               0.002804  \n",
      "14108               0.002804  \n",
      "14109             100.000000  \n",
      "\n",
      "[14110 rows x 5 columns]\n"
     ]
    }
   ],
   "source": [
    "csv2_10per_y = csv2_10per.groupby(['skill_name', 'user_id']).size().reset_index(name='number_of_utterances')\n",
    "csv2_10per_z = csv2_10per_x.merge(csv2_10per_y, on='skill_name')\n",
    "csv2_10per_z['percent(user | skill)'] = csv2_10per_z['number_of_utterances']/csv2_10per_z['count']*100\n",
    "csv2_10per_z.drop(['percent'], axis=1, inplace=True)\n",
    "csv2_10per_z.to_csv('metadata/user_by_skill_stat_10per.csv', index=False)\n",
    "print(csv2_10per_z)"
   ]
  },
  {
   "cell_type": "code",
   "execution_count": 6,
   "metadata": {},
   "outputs": [
    {
     "data": {
      "text/html": [
       "<div>\n",
       "<style scoped>\n",
       "    .dataframe tbody tr th:only-of-type {\n",
       "        vertical-align: middle;\n",
       "    }\n",
       "\n",
       "    .dataframe tbody tr th {\n",
       "        vertical-align: top;\n",
       "    }\n",
       "\n",
       "    .dataframe thead th {\n",
       "        text-align: right;\n",
       "    }\n",
       "</style>\n",
       "<table border=\"1\" class=\"dataframe\">\n",
       "  <thead>\n",
       "    <tr style=\"text-align: right;\">\n",
       "      <th></th>\n",
       "      <th>utterance</th>\n",
       "      <th>utterance_url</th>\n",
       "      <th>intent_name</th>\n",
       "      <th>skill_name</th>\n",
       "      <th>device_id</th>\n",
       "      <th>user_id</th>\n",
       "    </tr>\n",
       "  </thead>\n",
       "  <tbody>\n",
       "  </tbody>\n",
       "</table>\n",
       "</div>"
      ],
      "text/plain": [
       "Empty DataFrame\n",
       "Columns: [utterance, utterance_url, intent_name, skill_name, device_id, user_id]\n",
       "Index: []"
      ]
     },
     "execution_count": 6,
     "metadata": {},
     "output_type": "execute_result"
    }
   ],
   "source": [
    "csv2_10per = pd.read_csv('metadata/raw_multiskill.csv')\n",
    "#check user_id is NaN\n",
    "csv2_10per[csv2_10per['user_id'].isna()]\n",
    "#check utterance_url by validators.url, print False\n",
    "csv2_10per[csv2_10per['utterance_url'].apply(lambda x: validators.url(x)) == False]"
   ]
  }
 ],
 "metadata": {
  "kernelspec": {
   "display_name": "Python 3.10.5 64-bit",
   "language": "python",
   "name": "python3"
  },
  "language_info": {
   "codemirror_mode": {
    "name": "ipython",
    "version": 3
   },
   "file_extension": ".py",
   "mimetype": "text/x-python",
   "name": "python",
   "nbconvert_exporter": "python",
   "pygments_lexer": "ipython3",
   "version": "3.10.5"
  },
  "orig_nbformat": 4,
  "vscode": {
   "interpreter": {
    "hash": "beedbe2faf2f7048d727558d0bc3221e7eba2a0b921cac4d4771b2feb8f74b30"
   }
  }
 },
 "nbformat": 4,
 "nbformat_minor": 2
}
