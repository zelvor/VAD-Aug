{
 "cells": [
  {
   "cell_type": "code",
   "execution_count": 5,
   "metadata": {},
   "outputs": [],
   "source": [
    "import pandas as pd\n",
    "import librosa\n",
    "import os\n",
    "import validators"
   ]
  },
  {
   "cell_type": "code",
   "execution_count": 27,
   "metadata": {},
   "outputs": [],
   "source": [
    "metadata = pd.read_csv('OADTM2205-raw.csv')\n",
    "#remove skill_name is NaN and skill_name is olli.others\n",
    "metadata = metadata[~metadata['skill_name'].isna()]\n",
    "metadata = metadata[metadata['skill_name'] != 'olli.others']\n",
    "metadata.to_csv('metadata/raw_multiskill.csv', index=False)"
   ]
  },
  {
   "cell_type": "code",
   "execution_count": 15,
   "metadata": {},
   "outputs": [
    {
     "name": "stderr",
     "output_type": "stream",
     "text": [
      "C:\\Users\\admin\\AppData\\Local\\Temp\\ipykernel_10768\\2751833123.py:3: FutureWarning: The frame.append method is deprecated and will be removed from pandas in a future version. Use pandas.concat instead.\n",
      "  metadata3 = metadata2[metadata2['skill_name'].isna()].append(metadata2[metadata2['skill_name'] == 'olli.others'])\n"
     ]
    }
   ],
   "source": [
    "metadata2 = pd.read_csv('OADTM2205-raw.csv')\n",
    "#remove all skill_name, just keep both NaN and olli.others\n",
    "metadata3 = metadata2[metadata2['skill_name'].isna()].append(metadata2[metadata2['skill_name'] == 'olli.others'])\n",
    "metadata3.to_csv('metadata/raw_others.csv', index=False)\n"
   ]
  },
  {
   "cell_type": "code",
   "execution_count": 3,
   "metadata": {},
   "outputs": [],
   "source": [
    "csv2 = pd.read_csv('metadata/raw_multiskill.csv')"
   ]
  },
  {
   "cell_type": "code",
   "execution_count": 4,
   "metadata": {},
   "outputs": [
    {
     "data": {
      "text/plain": [
       "public             362599\n",
       "olli.playmusic     118709\n",
       "iot                 24936\n",
       "olli.weather         9992\n",
       "olli.reminder        4358\n",
       "Translator           1166\n",
       "olli.calculator      1045\n",
       "Riddles               852\n",
       "Horoscope             271\n",
       "Đặt vé máy bay          5\n",
       "Name: skill_name, dtype: int64"
      ]
     },
     "execution_count": 4,
     "metadata": {},
     "output_type": "execute_result"
    }
   ],
   "source": [
    "csv2['skill_name'].value_counts()"
   ]
  },
  {
   "cell_type": "code",
   "execution_count": 5,
   "metadata": {},
   "outputs": [],
   "source": [
    "#take 10% of data group by skill_name, user_id\n",
    "csv2_10per = csv2.groupby(['skill_name', 'user_id']).apply(lambda x: x.sample(frac=0.1))\n",
    "csv2_10per.to_csv('metadata/raw_multiskill_10per.csv', index=False)"
   ]
  },
  {
   "cell_type": "code",
   "execution_count": 14,
   "metadata": {},
   "outputs": [
    {
     "data": {
      "text/html": [
       "<div>\n",
       "<style scoped>\n",
       "    .dataframe tbody tr th:only-of-type {\n",
       "        vertical-align: middle;\n",
       "    }\n",
       "\n",
       "    .dataframe tbody tr th {\n",
       "        vertical-align: top;\n",
       "    }\n",
       "\n",
       "    .dataframe thead th {\n",
       "        text-align: right;\n",
       "    }\n",
       "</style>\n",
       "<table border=\"1\" class=\"dataframe\">\n",
       "  <thead>\n",
       "    <tr style=\"text-align: right;\">\n",
       "      <th></th>\n",
       "      <th>utterance</th>\n",
       "      <th>utterance_url</th>\n",
       "      <th>intent_name</th>\n",
       "      <th>skill_name</th>\n",
       "      <th>device_id</th>\n",
       "      <th>user_id</th>\n",
       "    </tr>\n",
       "  </thead>\n",
       "  <tbody>\n",
       "  </tbody>\n",
       "</table>\n",
       "</div>"
      ],
      "text/plain": [
       "Empty DataFrame\n",
       "Columns: [utterance, utterance_url, intent_name, skill_name, device_id, user_id]\n",
       "Index: []"
      ]
     },
     "execution_count": 14,
     "metadata": {},
     "output_type": "execute_result"
    }
   ],
   "source": [
    "csv2_10per = pd.read_csv('metadata/raw_multiskill.csv')\n",
    "#check user_id is NaN\n",
    "csv2_10per[csv2_10per['user_id'].isna()]\n",
    "#check utterance_url by validators.url, print False\n",
    "csv2_10per[csv2_10per['utterance_url'].apply(lambda x: validators.url(x)) == False]"
   ]
  }
 ],
 "metadata": {
  "kernelspec": {
   "display_name": "Python 3.10.5 64-bit",
   "language": "python",
   "name": "python3"
  },
  "language_info": {
   "codemirror_mode": {
    "name": "ipython",
    "version": 3
   },
   "file_extension": ".py",
   "mimetype": "text/x-python",
   "name": "python",
   "nbconvert_exporter": "python",
   "pygments_lexer": "ipython3",
   "version": "3.10.5"
  },
  "orig_nbformat": 4,
  "vscode": {
   "interpreter": {
    "hash": "beedbe2faf2f7048d727558d0bc3221e7eba2a0b921cac4d4771b2feb8f74b30"
   }
  }
 },
 "nbformat": 4,
 "nbformat_minor": 2
}
