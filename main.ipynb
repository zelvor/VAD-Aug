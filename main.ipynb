{
 "cells": [
  {
   "cell_type": "code",
   "execution_count": 3,
   "metadata": {},
   "outputs": [],
   "source": [
    "import pandas as pd\n",
    "import librosa\n",
    "import os\n",
    "import numpy as np"
   ]
  },
  {
   "cell_type": "code",
   "execution_count": 3,
   "metadata": {},
   "outputs": [
    {
     "name": "stdout",
     "output_type": "stream",
     "text": [
      "15496\n"
     ]
    }
   ],
   "source": [
    "clean_df = pd.read_csv('clean.csv')\n",
    "#remove first 7 characters from utt_id and path\n",
    "clean_df['utt_id'] = clean_df['utt_id'].str[7:]\n",
    "clean_df['path'] = clean_df['path'].str[7:]\n",
    "#os join path\n",
    "clean_df['path'] = clean_df['path'].apply(lambda x: os.path.join('VAD_OAD2204', x))\n",
    "#sort by utt_id\n",
    "clean_df = clean_df.sort_values(by='utt_id')\n",
    "clean_df['duration'] = 0\n",
    "clean_df['label'] = 'speech'\n",
    "print(len(clean_df))\n",
    "# if start_s = 0, print it\n",
    "# clean_df[clean_df['start_s'] == 0]"
   ]
  },
  {
   "cell_type": "code",
   "execution_count": null,
   "metadata": {},
   "outputs": [],
   "source": [
    "for i in range(0, len(clean_df)):\n",
    "    y, sr = librosa.load(clean_df.iloc[i]['path'])\n",
    "    clean_df['duration'].iloc[i] = librosa.get_duration(y=y, sr=sr)\n",
    "clean_df.head()\n",
    "\n",
    "# y, sr = librosa.load(clean_df['path'].iloc[0], 16000)\n",
    "# print(librosa.get_duration(y, sr))\n",
    "#new field duration fill with 0\n"
   ]
  },
  {
   "cell_type": "code",
   "execution_count": 49,
   "metadata": {},
   "outputs": [
    {
     "data": {
      "text/html": [
       "<div>\n",
       "<style scoped>\n",
       "    .dataframe tbody tr th:only-of-type {\n",
       "        vertical-align: middle;\n",
       "    }\n",
       "\n",
       "    .dataframe tbody tr th {\n",
       "        vertical-align: top;\n",
       "    }\n",
       "\n",
       "    .dataframe thead th {\n",
       "        text-align: right;\n",
       "    }\n",
       "</style>\n",
       "<table border=\"1\" class=\"dataframe\">\n",
       "  <thead>\n",
       "    <tr style=\"text-align: right;\">\n",
       "      <th></th>\n",
       "      <th>Unnamed: 0</th>\n",
       "      <th>utt_id</th>\n",
       "      <th>path</th>\n",
       "      <th>text</th>\n",
       "      <th>text_enhanced</th>\n",
       "      <th>spkid</th>\n",
       "      <th>start_s</th>\n",
       "      <th>end_s</th>\n",
       "      <th>problems</th>\n",
       "      <th>duration</th>\n",
       "      <th>label</th>\n",
       "    </tr>\n",
       "  </thead>\n",
       "  <tbody>\n",
       "    <tr>\n",
       "      <th>0</th>\n",
       "      <td>1767</td>\n",
       "      <td>A1048013552#400#9005547914635336</td>\n",
       "      <td>/content/drive/Shareddrives/vad/NeMo_data/OAD2...</td>\n",
       "      <td>TẮT NHẠC</td>\n",
       "      <td>TẮT NHẠC</td>\n",
       "      <td>110622</td>\n",
       "      <td>1.318762</td>\n",
       "      <td>1.720913</td>\n",
       "      <td>NaN</td>\n",
       "      <td>3.845125</td>\n",
       "      <td>speech</td>\n",
       "    </tr>\n",
       "    <tr>\n",
       "      <th>1</th>\n",
       "      <td>1831</td>\n",
       "      <td>A1048013552#400#9005547919649544</td>\n",
       "      <td>/content/drive/Shareddrives/vad/NeMo_data/OAD2...</td>\n",
       "      <td>MỞ BÀI CHÚC BÉ NGỦ NGON</td>\n",
       "      <td>MỞ BÀI CHÚC BÉ NGỦ NGON</td>\n",
       "      <td>110622</td>\n",
       "      <td>1.372884</td>\n",
       "      <td>3.745972</td>\n",
       "      <td>NaN</td>\n",
       "      <td>4.711875</td>\n",
       "      <td>speech</td>\n",
       "    </tr>\n",
       "    <tr>\n",
       "      <th>2</th>\n",
       "      <td>1768</td>\n",
       "      <td>A1048013552#400#9005547925994899</td>\n",
       "      <td>/content/drive/Shareddrives/vad/NeMo_data/OAD2...</td>\n",
       "      <td>MỞ BÀI TRÁI TIM</td>\n",
       "      <td>MỞ BÀI TRAI TIM</td>\n",
       "      <td>110622</td>\n",
       "      <td>1.305186</td>\n",
       "      <td>2.872490</td>\n",
       "      <td>NaN</td>\n",
       "      <td>4.003750</td>\n",
       "      <td>speech</td>\n",
       "    </tr>\n",
       "    <tr>\n",
       "      <th>3</th>\n",
       "      <td>1751</td>\n",
       "      <td>A1048013552#400#9005548193534208</td>\n",
       "      <td>/content/drive/Shareddrives/vad/NeMo_data/OAD2...</td>\n",
       "      <td>MỞ BÀI BỐ ƠI BỐ ƠI BỐ BỐ ƠI BỐ ƠI</td>\n",
       "      <td>MỞ BÀI BỐ ƠI BỐ ƠI BỐ BỐ ƠI BỐ ƠI</td>\n",
       "      <td>110622</td>\n",
       "      <td>2.533318</td>\n",
       "      <td>5.159882</td>\n",
       "      <td>NaN</td>\n",
       "      <td>6.022500</td>\n",
       "      <td>speech</td>\n",
       "    </tr>\n",
       "    <tr>\n",
       "      <th>4</th>\n",
       "      <td>1746</td>\n",
       "      <td>A1048013552#400#9005548193562623</td>\n",
       "      <td>/content/drive/Shareddrives/vad/NeMo_data/OAD2...</td>\n",
       "      <td>MỞ BÀI BỐ ƠI BỐ ƠI BỐ ƠI</td>\n",
       "      <td>MỞ BÀI BỐ ƠI BỐ ƠI BỐ ƠI</td>\n",
       "      <td>110622</td>\n",
       "      <td>2.426467</td>\n",
       "      <td>4.852765</td>\n",
       "      <td>NaN</td>\n",
       "      <td>6.114375</td>\n",
       "      <td>speech</td>\n",
       "    </tr>\n",
       "  </tbody>\n",
       "</table>\n",
       "</div>"
      ],
      "text/plain": [
       "   Unnamed: 0                            utt_id  \\\n",
       "0        1767  A1048013552#400#9005547914635336   \n",
       "1        1831  A1048013552#400#9005547919649544   \n",
       "2        1768  A1048013552#400#9005547925994899   \n",
       "3        1751  A1048013552#400#9005548193534208   \n",
       "4        1746  A1048013552#400#9005548193562623   \n",
       "\n",
       "                                                path  \\\n",
       "0  /content/drive/Shareddrives/vad/NeMo_data/OAD2...   \n",
       "1  /content/drive/Shareddrives/vad/NeMo_data/OAD2...   \n",
       "2  /content/drive/Shareddrives/vad/NeMo_data/OAD2...   \n",
       "3  /content/drive/Shareddrives/vad/NeMo_data/OAD2...   \n",
       "4  /content/drive/Shareddrives/vad/NeMo_data/OAD2...   \n",
       "\n",
       "                                text                      text_enhanced  \\\n",
       "0                           TẮT NHẠC                           TẮT NHẠC   \n",
       "1            MỞ BÀI CHÚC BÉ NGỦ NGON            MỞ BÀI CHÚC BÉ NGỦ NGON   \n",
       "2                    MỞ BÀI TRÁI TIM                    MỞ BÀI TRAI TIM   \n",
       "3  MỞ BÀI BỐ ƠI BỐ ƠI BỐ BỐ ƠI BỐ ƠI  MỞ BÀI BỐ ƠI BỐ ƠI BỐ BỐ ƠI BỐ ƠI   \n",
       "4           MỞ BÀI BỐ ƠI BỐ ƠI BỐ ƠI           MỞ BÀI BỐ ƠI BỐ ƠI BỐ ƠI   \n",
       "\n",
       "    spkid   start_s     end_s  problems  duration   label  \n",
       "0  110622  1.318762  1.720913       NaN  3.845125  speech  \n",
       "1  110622  1.372884  3.745972       NaN  4.711875  speech  \n",
       "2  110622  1.305186  2.872490       NaN  4.003750  speech  \n",
       "3  110622  2.533318  5.159882       NaN  6.022500  speech  \n",
       "4  110622  2.426467  4.852765       NaN  6.114375  speech  "
      ]
     },
     "execution_count": 49,
     "metadata": {},
     "output_type": "execute_result"
    }
   ],
   "source": [
    "total_clean = pd.read_csv('total_clean.csv')\n",
    "total_clean.head()"
   ]
  },
  {
   "cell_type": "code",
   "execution_count": 50,
   "metadata": {},
   "outputs": [
    {
     "name": "stdout",
     "output_type": "stream",
     "text": [
      "14.206350746527807\n",
      "3.342288888888892\n"
     ]
    }
   ],
   "source": [
    "train_clean = total_clean[:12496]\n",
    "test_clean = total_clean[12496:]\n",
    "\n",
    "# train_df = train_clean[['utt_id', 'path']]\n",
    "# train_df.to_csv('data_train/wav.scp', sep=' ', index=False, header=None)\n",
    "# test_df = test_clean[['utt_id', 'path']]\n",
    "# test_df.to_csv('data_test/wav.scp', sep=' ', index=False, header=None)\n",
    "\n",
    "#print total of duration\n",
    "print(sum(train_clean['duration'])/3600)\n",
    "print(sum(test_clean['duration'])/3600)"
   ]
  },
  {
   "cell_type": "code",
   "execution_count": 25,
   "metadata": {},
   "outputs": [],
   "source": [
    "def add_nonspeech(dataframe):\n",
    "    segments_df = dataframe[['utt_id', 'start_s', 'end_s', 'duration','label']]\n",
    "    for i in range(0, len(segments_df)):\n",
    "        if segments_df['start_s'].iloc[i] != 0:\n",
    "            #append new row with start_s = 0 and end_s = segments_df['start_s'].iloc[i], label = 'nonspeech'\n",
    "            new_row = {'utt_id': segments_df['utt_id'].iloc[i], 'start_s': 0, 'end_s': segments_df['start_s'].iloc[i], 'duration': segments_df['duration'].iloc[i], 'label': 'nonspeech'}\n",
    "            segments_df = segments_df.append(new_row, ignore_index=True)\n",
    "        if segments_df['end_s'].iloc[i] != segments_df['duration'].iloc[i]:\n",
    "            #append new row with start_s = segments_df['end_s'].iloc[i] and end_s = segments_df['duration'].iloc[i]\n",
    "            new_row = {'utt_id': segments_df['utt_id'].iloc[i], 'start_s': segments_df['end_s'].iloc[i], 'end_s': segments_df['duration'].iloc[i], 'duration': segments_df['duration'].iloc[i], 'label': 'nonspeech'}\n",
    "            segments_df = segments_df.append(new_row, ignore_index=True)\n",
    "    #sort by utt_id, start_s, end_s\n",
    "    segments_df = segments_df.sort_values(by=['utt_id', 'start_s'])\n",
    "    #if it has same utt_id, new column 'segment_id' start from 1,2,3...\n",
    "    segments_df['segment_id'] = segments_df.groupby('utt_id').cumcount()\n",
    "    #add new column 'utt_id_segment_id' at first column and fill with utt_id + '_' + segment_id\n",
    "    segments_df['utt_id_segment_id'] = segments_df['utt_id'].map(str) + '_' + segments_df['segment_id'].map(str)\n",
    "    #move utt_id_segment_id to first column\n",
    "    segments_df = segments_df[['utt_id_segment_id', 'utt_id', 'start_s', 'end_s', 'duration', 'label']]\n",
    "\n",
    "    segments_df[['utt_id_segment_id', 'utt_id', 'start_s', 'end_s']].to_csv('data_train/segments', index = False, header = None, sep =' ')\n",
    "    segments_df[['utt_id_segment_id', 'label']].to_csv('data_train/utt2spk', index=False, sep=' ', header=None)"
   ]
  },
  {
   "cell_type": "code",
   "execution_count": 26,
   "metadata": {},
   "outputs": [],
   "source": [
    "def add_nonspeech2(dataframe):\n",
    "    segments_df = dataframe[['utt_id', 'start_s', 'end_s', 'duration','label']]\n",
    "    for i in range(0, len(segments_df)):\n",
    "        if segments_df['start_s'].iloc[i] != 0:\n",
    "            #append new row with start_s = 0 and end_s = segments_df['start_s'].iloc[i], label = 'nonspeech'\n",
    "            new_row = {'utt_id': segments_df['utt_id'].iloc[i], 'start_s': 0, 'end_s': segments_df['start_s'].iloc[i], 'duration': segments_df['duration'].iloc[i], 'label': 'nonspeech'}\n",
    "            segments_df = segments_df.append(new_row, ignore_index=True)\n",
    "        if segments_df['end_s'].iloc[i] != segments_df['duration'].iloc[i]:\n",
    "            #append new row with start_s = segments_df['end_s'].iloc[i] and end_s = segments_df['duration'].iloc[i]\n",
    "            new_row = {'utt_id': segments_df['utt_id'].iloc[i], 'start_s': segments_df['end_s'].iloc[i], 'end_s': segments_df['duration'].iloc[i], 'duration': segments_df['duration'].iloc[i], 'label': 'nonspeech'}\n",
    "            segments_df = segments_df.append(new_row, ignore_index=True)\n",
    "    #sort by utt_id, start_s, end_s\n",
    "    segments_df = segments_df.sort_values(by=['utt_id', 'start_s'])\n",
    "    #if it has same utt_id, new column 'segment_id' start from 1,2,3...\n",
    "    segments_df['segment_id'] = segments_df.groupby('utt_id').cumcount()\n",
    "    #add new column 'utt_id_segment_id' at first column and fill with utt_id + '_' + segment_id\n",
    "    segments_df['utt_id_segment_id'] = segments_df['utt_id'].map(str) + '_' + segments_df['segment_id'].map(str)\n",
    "    #move utt_id_segment_id to first column\n",
    "    segments_df = segments_df[['utt_id_segment_id', 'utt_id', 'start_s', 'end_s', 'duration', 'label']]\n",
    "\n",
    "    segments_df[['utt_id_segment_id', 'utt_id', 'start_s', 'end_s']].to_csv('data_test/segments', index=False, header=None, sep=' ')\n",
    "    segments_df[['utt_id_segment_id', 'label']].to_csv('data_test/utt2spk', index=False, sep=' ', header=None)"
   ]
  },
  {
   "cell_type": "code",
   "execution_count": null,
   "metadata": {},
   "outputs": [],
   "source": [
    "add_nonspeech(train_clean)\n",
    "add_nonspeech2(test_clean)"
   ]
  },
  {
   "cell_type": "code",
   "execution_count": 55,
   "metadata": {},
   "outputs": [
    {
     "name": "stderr",
     "output_type": "stream",
     "text": [
      "C:\\Users\\admin\\AppData\\Local\\Temp\\ipykernel_8728\\1483742813.py:3: SettingWithCopyWarning: \n",
      "A value is trying to be set on a copy of a slice from a DataFrame.\n",
      "Try using .loc[row_indexer,col_indexer] = value instead\n",
      "\n",
      "See the caveats in the documentation: https://pandas.pydata.org/pandas-docs/stable/user_guide/indexing.html#returning-a-view-versus-a-copy\n",
      "  segments_df['segment_id'] = segments_df.groupby('utt_id').cumcount()\n",
      "C:\\Users\\admin\\AppData\\Local\\Temp\\ipykernel_8728\\1483742813.py:4: SettingWithCopyWarning: \n",
      "A value is trying to be set on a copy of a slice from a DataFrame.\n",
      "Try using .loc[row_indexer,col_indexer] = value instead\n",
      "\n",
      "See the caveats in the documentation: https://pandas.pydata.org/pandas-docs/stable/user_guide/indexing.html#returning-a-view-versus-a-copy\n",
      "  segments_df['utt_id_segment_id'] = segments_df['utt_id'].map(str) + '_' + segments_df['segment_id'].map(str)\n"
     ]
    }
   ],
   "source": [
    "segments_df = test_clean[['utt_id', 'start_s', 'end_s']]\n",
    "#add new column 'utt_id_segment_id' at first column and fill with utt_id + '_' + segment_id\n",
    "segments_df['segment_id'] = segments_df.groupby('utt_id').cumcount()\n",
    "segments_df['utt_id_segment_id'] = segments_df['utt_id'].map(str) + '_' + segments_df['segment_id'].map(str)\n",
    "segments_df[['utt_id_segment_id', 'utt_id', 'start_s', 'end_s']].to_csv('data_test/segments_gr', index=False, header=None, sep=' ')\n"
   ]
  },
  {
   "cell_type": "code",
   "execution_count": 47,
   "metadata": {},
   "outputs": [
    {
     "data": {
      "text/html": [
       "<div>\n",
       "<style scoped>\n",
       "    .dataframe tbody tr th:only-of-type {\n",
       "        vertical-align: middle;\n",
       "    }\n",
       "\n",
       "    .dataframe tbody tr th {\n",
       "        vertical-align: top;\n",
       "    }\n",
       "\n",
       "    .dataframe thead th {\n",
       "        text-align: right;\n",
       "    }\n",
       "</style>\n",
       "<table border=\"1\" class=\"dataframe\">\n",
       "  <thead>\n",
       "    <tr style=\"text-align: right;\">\n",
       "      <th></th>\n",
       "      <th>utt_id_segment_id</th>\n",
       "      <th>utt_id</th>\n",
       "      <th>start_s</th>\n",
       "      <th>end_s</th>\n",
       "    </tr>\n",
       "  </thead>\n",
       "  <tbody>\n",
       "  </tbody>\n",
       "</table>\n",
       "</div>"
      ],
      "text/plain": [
       "Empty DataFrame\n",
       "Columns: [utt_id_segment_id, utt_id, start_s, end_s]\n",
       "Index: []"
      ]
     },
     "execution_count": 47,
     "metadata": {},
     "output_type": "execute_result"
    }
   ],
   "source": [
    "data = pd.read_csv('data_train/segments', sep=' ', header=None)\n",
    "data.columns = ['utt_id_segment_id', 'utt_id', 'start_s', 'end_s']\n",
    "data.head()\n",
    "#print row if start_s or end_s is NaN\n",
    "data[data.isnull().any(axis=1)]"
   ]
  },
  {
   "cell_type": "code",
   "execution_count": null,
   "metadata": {},
   "outputs": [],
   "source": [
    "# segments_df = total_clean[['utt_id', 'start_s', 'end_s', 'duration','label']]\n",
    "# for i in range(0, len(segments_df)):\n",
    "#     if segments_df['start_s'].iloc[i] != 0:\n",
    "#         #append new row with start_s = 0 and end_s = segments_df['start_s'].iloc[i], label = 'nonspeech'\n",
    "#         new_row = {'utt_id': segments_df['utt_id'].iloc[i], 'start_s': 0, 'end_s': segments_df['start_s'].iloc[i], 'duration': segments_df['duration'].iloc[i], 'label': 'nonspeech'}\n",
    "#         segments_df = segments_df.append(new_row, ignore_index=True)\n",
    "#     if segments_df['end_s'].iloc[i] != segments_df['duration'].iloc[i]:\n",
    "#         #append new row with start_s = segments_df['end_s'].iloc[i] and end_s = segments_df['duration'].iloc[i]\n",
    "#         new_row = {'utt_id': segments_df['utt_id'].iloc[i], 'start_s': segments_df['end_s'].iloc[i], 'end_s': segments_df['duration'].iloc[i], 'duration': segments_df['duration'].iloc[i], 'label': 'nonspeech'}\n",
    "#         segments_df = segments_df.append(new_row, ignore_index=True)\n",
    "# segments_df.head(5)"
   ]
  },
  {
   "cell_type": "code",
   "execution_count": 7,
   "metadata": {},
   "outputs": [],
   "source": [
    "# #sort by utt_id, start_s, end_s\n",
    "# segments_df = segments_df.sort_values(by=['utt_id', 'start_s'])\n",
    "# #if it has same utt_id, new column 'segment_id' start from 1,2,3...\n",
    "# segments_df['segment_id'] = segments_df.groupby('utt_id').cumcount()\n",
    "# #add new column 'utt_id_segment_id' at first column and fill with utt_id + '_' + segment_id\n",
    "# segments_df['utt_id_segment_id'] = segments_df['utt_id'].map(str) + '_' + segments_df['segment_id'].map(str)\n",
    "# #move utt_id_segment_id to first column\n",
    "# segments_df = segments_df[['utt_id_segment_id', 'utt_id', 'start_s', 'end_s', 'duration', 'label']]"
   ]
  },
  {
   "cell_type": "code",
   "execution_count": null,
   "metadata": {},
   "outputs": [],
   "source": [
    "\n",
    "# segments_df[['utt_id_segment_id', 'utt_id', 'start_s', 'end_s']].to_csv('segments', index=False, sep=' ', header=None)\n",
    "# segments_df[['utt_id_segment_id', 'label']].to_csv('utt2spk', index=False, sep=' ', header=None)"
   ]
  },
  {
   "cell_type": "code",
   "execution_count": 7,
   "metadata": {},
   "outputs": [
    {
     "name": "stdout",
     "output_type": "stream",
     "text": [
      "6173\n",
      "3266\n"
     ]
    }
   ],
   "source": [
    "content = pd.read_csv('metadata/raw_multiskill_10per-val.csv', sep=',')\n",
    "print(len(content))\n",
    "#filter unique rows\n",
    "content = content.drop_duplicates()\n",
    "print(len(content))\n",
    "content.to_csv('metadata/raw_multiskill_10per_val.csv', index=False, sep=',')"
   ]
  },
  {
   "cell_type": "code",
   "execution_count": 9,
   "metadata": {},
   "outputs": [
    {
     "name": "stdout",
     "output_type": "stream",
     "text": [
      "A1203478291#17758#9005549740015939_0\n"
     ]
    }
   ],
   "source": [
    "from pydub import AudioSegment\n",
    "\n",
    "segments_out = pd.read_csv('data_test/segments_gr', sep=' ', header=None)\n",
    "segments_out.columns=['utt_id_segment_id', 'utt_id', 'start_s', 'end_s']\n",
    "path_df = pd.read_csv('data_test/wav.scp', sep=' ', header=None)\n",
    "path_df.columns = ['utt_id', 'path']\n",
    "\n",
    "for row in path_df.iterrows():\n",
    "    audio_id = row[1]['utt_id']\n",
    "    path = row[1]['path']\n",
    "    list_segment = segments_out[segments_out['utt_id'] == audio_id]\n",
    "    audio = AudioSegment.from_wav(path)\n",
    "    for row_segment in list_segment.iterrows():\n",
    "        print(row_segment[1]['utt_id_segment_id'])\n",
    "        start_s = row_segment[1]['start_s']\n",
    "        end_s = row_segment[1]['end_s']\n",
    "        segment = audio[start_s*1000:end_s*1000]\n",
    "        segment.export('path.../'+row_segment[1]['utt_id_segment_id']+'.wav', format='wav')\n",
    "    \n",
    "\n",
    "\n"
   ]
  },
  {
   "cell_type": "code",
   "execution_count": 2,
   "metadata": {},
   "outputs": [
    {
     "name": "stdout",
     "output_type": "stream",
     "text": [
      "OK\n"
     ]
    }
   ],
   "source": [
    "import requests\n",
    "\n",
    "#https://users-dev.jenkins-x-viettel.iviet.com/v1/util/wav/A114966462%236203%239005547063353169\n",
    "\n",
    "response = requests.get('https://users-dev.jenkins-x-viettel.iviet.com/v1/util/wav/A114966462%236203%239005547063353169')\n",
    "print(response.reason)"
   ]
  }
 ],
 "metadata": {
  "kernelspec": {
   "display_name": "Python 3.10.5 64-bit",
   "language": "python",
   "name": "python3"
  },
  "language_info": {
   "codemirror_mode": {
    "name": "ipython",
    "version": 3
   },
   "file_extension": ".py",
   "mimetype": "text/x-python",
   "name": "python",
   "nbconvert_exporter": "python",
   "pygments_lexer": "ipython3",
   "version": "3.10.5"
  },
  "orig_nbformat": 4,
  "vscode": {
   "interpreter": {
    "hash": "beedbe2faf2f7048d727558d0bc3221e7eba2a0b921cac4d4771b2feb8f74b30"
   }
  }
 },
 "nbformat": 4,
 "nbformat_minor": 2
}
